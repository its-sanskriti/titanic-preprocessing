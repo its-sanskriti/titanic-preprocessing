{
 "cells": [
  {
   "cell_type": "markdown",
   "id": "fd822d39",
   "metadata": {
    "papermill": {
     "duration": 0.004335,
     "end_time": "2025-09-18T11:13:12.481861",
     "exception": false,
     "start_time": "2025-09-18T11:13:12.477526",
     "status": "completed"
    },
    "tags": []
   },
   "source": [
    "Titanic Data Preprocessing – Part 1 (Missing Values)"
   ]
  },
  {
   "cell_type": "code",
   "execution_count": 1,
   "id": "9ccafd1a",
   "metadata": {
    "execution": {
     "iopub.execute_input": "2025-09-18T11:13:12.490140Z",
     "iopub.status.busy": "2025-09-18T11:13:12.489784Z",
     "iopub.status.idle": "2025-09-18T11:13:16.117308Z",
     "shell.execute_reply": "2025-09-18T11:13:16.116427Z"
    },
    "papermill": {
     "duration": 3.633565,
     "end_time": "2025-09-18T11:13:16.119055",
     "exception": false,
     "start_time": "2025-09-18T11:13:12.485490",
     "status": "completed"
    },
    "tags": []
   },
   "outputs": [],
   "source": [
    "import numpy as np\n",
    "import pandas as pd\n",
    "import seaborn as sns\n",
    "import matplotlib.pyplot as plt"
   ]
  },
  {
   "cell_type": "code",
   "execution_count": 2,
   "id": "efb035fa",
   "metadata": {
    "execution": {
     "iopub.execute_input": "2025-09-18T11:13:16.127496Z",
     "iopub.status.busy": "2025-09-18T11:13:16.127044Z",
     "iopub.status.idle": "2025-09-18T11:13:16.142497Z",
     "shell.execute_reply": "2025-09-18T11:13:16.141100Z"
    },
    "papermill": {
     "duration": 0.021537,
     "end_time": "2025-09-18T11:13:16.144298",
     "exception": false,
     "start_time": "2025-09-18T11:13:16.122761",
     "status": "completed"
    },
    "tags": []
   },
   "outputs": [
    {
     "name": "stdout",
     "output_type": "stream",
     "text": [
      "/kaggle/input/titanic-dataset/Titanic-Dataset.csv\n"
     ]
    }
   ],
   "source": [
    "import os\n",
    "\n",
    "# List all files in input folder\n",
    "for dirname, _, filenames in os.walk('/kaggle/input'):\n",
    "    for filename in filenames:\n",
    "        print(os.path.join(dirname, filename))\n",
    "\n",
    "\n"
   ]
  },
  {
   "cell_type": "code",
   "execution_count": 3,
   "id": "931994cf",
   "metadata": {
    "execution": {
     "iopub.execute_input": "2025-09-18T11:13:16.152653Z",
     "iopub.status.busy": "2025-09-18T11:13:16.152336Z",
     "iopub.status.idle": "2025-09-18T11:13:16.203535Z",
     "shell.execute_reply": "2025-09-18T11:13:16.202683Z"
    },
    "papermill": {
     "duration": 0.057118,
     "end_time": "2025-09-18T11:13:16.205027",
     "exception": false,
     "start_time": "2025-09-18T11:13:16.147909",
     "status": "completed"
    },
    "tags": []
   },
   "outputs": [
    {
     "data": {
      "text/html": [
       "<div>\n",
       "<style scoped>\n",
       "    .dataframe tbody tr th:only-of-type {\n",
       "        vertical-align: middle;\n",
       "    }\n",
       "\n",
       "    .dataframe tbody tr th {\n",
       "        vertical-align: top;\n",
       "    }\n",
       "\n",
       "    .dataframe thead th {\n",
       "        text-align: right;\n",
       "    }\n",
       "</style>\n",
       "<table border=\"1\" class=\"dataframe\">\n",
       "  <thead>\n",
       "    <tr style=\"text-align: right;\">\n",
       "      <th></th>\n",
       "      <th>PassengerId</th>\n",
       "      <th>Survived</th>\n",
       "      <th>Pclass</th>\n",
       "      <th>Name</th>\n",
       "      <th>Sex</th>\n",
       "      <th>Age</th>\n",
       "      <th>SibSp</th>\n",
       "      <th>Parch</th>\n",
       "      <th>Ticket</th>\n",
       "      <th>Fare</th>\n",
       "      <th>Cabin</th>\n",
       "      <th>Embarked</th>\n",
       "    </tr>\n",
       "  </thead>\n",
       "  <tbody>\n",
       "    <tr>\n",
       "      <th>0</th>\n",
       "      <td>1</td>\n",
       "      <td>0</td>\n",
       "      <td>3</td>\n",
       "      <td>Braund, Mr. Owen Harris</td>\n",
       "      <td>male</td>\n",
       "      <td>22.0</td>\n",
       "      <td>1</td>\n",
       "      <td>0</td>\n",
       "      <td>A/5 21171</td>\n",
       "      <td>7.2500</td>\n",
       "      <td>NaN</td>\n",
       "      <td>S</td>\n",
       "    </tr>\n",
       "    <tr>\n",
       "      <th>1</th>\n",
       "      <td>2</td>\n",
       "      <td>1</td>\n",
       "      <td>1</td>\n",
       "      <td>Cumings, Mrs. John Bradley (Florence Briggs Th...</td>\n",
       "      <td>female</td>\n",
       "      <td>38.0</td>\n",
       "      <td>1</td>\n",
       "      <td>0</td>\n",
       "      <td>PC 17599</td>\n",
       "      <td>71.2833</td>\n",
       "      <td>C85</td>\n",
       "      <td>C</td>\n",
       "    </tr>\n",
       "    <tr>\n",
       "      <th>2</th>\n",
       "      <td>3</td>\n",
       "      <td>1</td>\n",
       "      <td>3</td>\n",
       "      <td>Heikkinen, Miss. Laina</td>\n",
       "      <td>female</td>\n",
       "      <td>26.0</td>\n",
       "      <td>0</td>\n",
       "      <td>0</td>\n",
       "      <td>STON/O2. 3101282</td>\n",
       "      <td>7.9250</td>\n",
       "      <td>NaN</td>\n",
       "      <td>S</td>\n",
       "    </tr>\n",
       "    <tr>\n",
       "      <th>3</th>\n",
       "      <td>4</td>\n",
       "      <td>1</td>\n",
       "      <td>1</td>\n",
       "      <td>Futrelle, Mrs. Jacques Heath (Lily May Peel)</td>\n",
       "      <td>female</td>\n",
       "      <td>35.0</td>\n",
       "      <td>1</td>\n",
       "      <td>0</td>\n",
       "      <td>113803</td>\n",
       "      <td>53.1000</td>\n",
       "      <td>C123</td>\n",
       "      <td>S</td>\n",
       "    </tr>\n",
       "    <tr>\n",
       "      <th>4</th>\n",
       "      <td>5</td>\n",
       "      <td>0</td>\n",
       "      <td>3</td>\n",
       "      <td>Allen, Mr. William Henry</td>\n",
       "      <td>male</td>\n",
       "      <td>35.0</td>\n",
       "      <td>0</td>\n",
       "      <td>0</td>\n",
       "      <td>373450</td>\n",
       "      <td>8.0500</td>\n",
       "      <td>NaN</td>\n",
       "      <td>S</td>\n",
       "    </tr>\n",
       "  </tbody>\n",
       "</table>\n",
       "</div>"
      ],
      "text/plain": [
       "   PassengerId  Survived  Pclass  \\\n",
       "0            1         0       3   \n",
       "1            2         1       1   \n",
       "2            3         1       3   \n",
       "3            4         1       1   \n",
       "4            5         0       3   \n",
       "\n",
       "                                                Name     Sex   Age  SibSp  \\\n",
       "0                            Braund, Mr. Owen Harris    male  22.0      1   \n",
       "1  Cumings, Mrs. John Bradley (Florence Briggs Th...  female  38.0      1   \n",
       "2                             Heikkinen, Miss. Laina  female  26.0      0   \n",
       "3       Futrelle, Mrs. Jacques Heath (Lily May Peel)  female  35.0      1   \n",
       "4                           Allen, Mr. William Henry    male  35.0      0   \n",
       "\n",
       "   Parch            Ticket     Fare Cabin Embarked  \n",
       "0      0         A/5 21171   7.2500   NaN        S  \n",
       "1      0          PC 17599  71.2833   C85        C  \n",
       "2      0  STON/O2. 3101282   7.9250   NaN        S  \n",
       "3      0            113803  53.1000  C123        S  \n",
       "4      0            373450   8.0500   NaN        S  "
      ]
     },
     "execution_count": 3,
     "metadata": {},
     "output_type": "execute_result"
    }
   ],
   "source": [
    "import pandas as pd\n",
    "\n",
    "train = pd.read_csv(\"/kaggle/input/titanic-dataset/Titanic-Dataset.csv\")\n",
    "test = pd.read_csv(\"/kaggle/input/titanic-dataset/Titanic-Dataset.csv\")\n",
    "\n",
    "train.head()\n"
   ]
  },
  {
   "cell_type": "markdown",
   "id": "58373006",
   "metadata": {
    "papermill": {
     "duration": 0.003331,
     "end_time": "2025-09-18T11:13:16.212225",
     "exception": false,
     "start_time": "2025-09-18T11:13:16.208894",
     "status": "completed"
    },
    "tags": []
   },
   "source": [
    " ==============================\n",
    "# 3. Missing Values Overview\n",
    "# =============================="
   ]
  },
  {
   "cell_type": "code",
   "execution_count": 4,
   "id": "80dbfcf3",
   "metadata": {
    "execution": {
     "iopub.execute_input": "2025-09-18T11:13:16.220768Z",
     "iopub.status.busy": "2025-09-18T11:13:16.220157Z",
     "iopub.status.idle": "2025-09-18T11:13:16.226419Z",
     "shell.execute_reply": "2025-09-18T11:13:16.225497Z"
    },
    "papermill": {
     "duration": 0.01203,
     "end_time": "2025-09-18T11:13:16.227742",
     "exception": false,
     "start_time": "2025-09-18T11:13:16.215712",
     "status": "completed"
    },
    "tags": []
   },
   "outputs": [
    {
     "name": "stdout",
     "output_type": "stream",
     "text": [
      "PassengerId      0\n",
      "Survived         0\n",
      "Pclass           0\n",
      "Name             0\n",
      "Sex              0\n",
      "Age            177\n",
      "SibSp            0\n",
      "Parch            0\n",
      "Ticket           0\n",
      "Fare             0\n",
      "Cabin          687\n",
      "Embarked         2\n",
      "dtype: int64\n"
     ]
    }
   ],
   "source": [
    "\n",
    "print(train.isnull().sum())\n",
    "\n",
    "\n"
   ]
  },
  {
   "cell_type": "code",
   "execution_count": 5,
   "id": "cfe4c5d0",
   "metadata": {
    "execution": {
     "iopub.execute_input": "2025-09-18T11:13:16.236232Z",
     "iopub.status.busy": "2025-09-18T11:13:16.235891Z",
     "iopub.status.idle": "2025-09-18T11:13:16.241628Z",
     "shell.execute_reply": "2025-09-18T11:13:16.240851Z"
    },
    "papermill": {
     "duration": 0.011291,
     "end_time": "2025-09-18T11:13:16.242835",
     "exception": false,
     "start_time": "2025-09-18T11:13:16.231544",
     "status": "completed"
    },
    "tags": []
   },
   "outputs": [
    {
     "name": "stdout",
     "output_type": "stream",
     "text": [
      "Index(['PassengerId', 'Survived', 'Pclass', 'Name', 'Sex', 'Age', 'SibSp',\n",
      "       'Parch', 'Ticket', 'Fare', 'Cabin', 'Embarked'],\n",
      "      dtype='object')\n"
     ]
    }
   ],
   "source": [
    "print(train.columns)\n",
    "\n"
   ]
  },
  {
   "cell_type": "markdown",
   "id": "4bef6e6e",
   "metadata": {
    "papermill": {
     "duration": 0.003479,
     "end_time": "2025-09-18T11:13:16.250107",
     "exception": false,
     "start_time": "2025-09-18T11:13:16.246628",
     "status": "completed"
    },
    "tags": []
   },
   "source": [
    "# ==============================\n",
    "# 5. Handle 'Embarked' Missing Values\n",
    "# ==============================\n",
    "# Fill missing Embarked with mode (most frequent value)"
   ]
  },
  {
   "cell_type": "code",
   "execution_count": 6,
   "id": "add56a40",
   "metadata": {
    "execution": {
     "iopub.execute_input": "2025-09-18T11:13:16.258705Z",
     "iopub.status.busy": "2025-09-18T11:13:16.258077Z",
     "iopub.status.idle": "2025-09-18T11:13:16.268499Z",
     "shell.execute_reply": "2025-09-18T11:13:16.267665Z"
    },
    "papermill": {
     "duration": 0.016153,
     "end_time": "2025-09-18T11:13:16.269877",
     "exception": false,
     "start_time": "2025-09-18T11:13:16.253724",
     "status": "completed"
    },
    "tags": []
   },
   "outputs": [
    {
     "data": {
      "text/plain": [
       "0      S\n",
       "1      C\n",
       "2      S\n",
       "3      S\n",
       "4      S\n",
       "      ..\n",
       "886    S\n",
       "887    S\n",
       "888    S\n",
       "889    C\n",
       "890    Q\n",
       "Name: Embarked, Length: 891, dtype: object"
      ]
     },
     "execution_count": 6,
     "metadata": {},
     "output_type": "execute_result"
    }
   ],
   "source": [
    "\n",
    "train['Embarked'].fillna(train['Embarked'].mode()[0])\n"
   ]
  },
  {
   "cell_type": "markdown",
   "id": "3b080a2b",
   "metadata": {
    "papermill": {
     "duration": 0.003541,
     "end_time": "2025-09-18T11:13:16.277232",
     "exception": false,
     "start_time": "2025-09-18T11:13:16.273691",
     "status": "completed"
    },
    "tags": []
   },
   "source": [
    "# Replace rare titles # Map similar titles # Fill Age missing values with median Age per Title group"
   ]
  },
  {
   "cell_type": "code",
   "execution_count": 7,
   "id": "893b1d7e",
   "metadata": {
    "execution": {
     "iopub.execute_input": "2025-09-18T11:13:16.287213Z",
     "iopub.status.busy": "2025-09-18T11:13:16.286437Z",
     "iopub.status.idle": "2025-09-18T11:13:16.316572Z",
     "shell.execute_reply": "2025-09-18T11:13:16.315652Z"
    },
    "papermill": {
     "duration": 0.036296,
     "end_time": "2025-09-18T11:13:16.318212",
     "exception": false,
     "start_time": "2025-09-18T11:13:16.281916",
     "status": "completed"
    },
    "tags": []
   },
   "outputs": [],
   "source": [
    "#\n",
    "train['Title'] = train['Name'].str.extract(r' ([A-Za-z]+)\\.', expand=False)\n",
    "test['Title'] = test['Name'].str.extract(r' ([A-Za-z]+)\\.', expand=False)\n",
    "\n",
    "\n",
    "rare_titles = ['Lady', 'Countess','Capt','Col','Don','Dr','Major','Rev',\n",
    "               'Sir','Jonkheer','Dona']\n",
    "train['Title'] = train['Title'].replace(rare_titles, 'Rare')\n",
    "test['Title'] = test['Title'].replace(rare_titles, 'Rare')\n",
    "\n",
    "\n",
    "train['Title'] = train['Title'].replace(['Mlle','Ms'], 'Miss')\n",
    "train['Title'] = train['Title'].replace('Mme', 'Mrs')\n",
    "test['Title'] = test['Title'].replace(['Mlle','Ms'], 'Miss')\n",
    "test['Title'] = test['Title'].replace('Mme', 'Mrs')\n",
    "\n",
    "\n",
    "train['Age'] = train.groupby('Title')['Age'].transform(lambda x: x.fillna(x.median()))\n",
    "test['Age'] = test.groupby('Title')['Age'].transform(lambda x: x.fillna(x.median()))\n"
   ]
  },
  {
   "cell_type": "markdown",
   "id": "f4c0c21d",
   "metadata": {
    "papermill": {
     "duration": 0.003425,
     "end_time": "2025-09-18T11:13:16.325592",
     "exception": false,
     "start_time": "2025-09-18T11:13:16.322167",
     "status": "completed"
    },
    "tags": []
   },
   "source": [
    "# ==============================\n",
    "# 7. Handle 'Fare' Missing Value in Test\n",
    "# =============================="
   ]
  },
  {
   "cell_type": "code",
   "execution_count": 8,
   "id": "f5a542de",
   "metadata": {
    "execution": {
     "iopub.execute_input": "2025-09-18T11:13:16.334439Z",
     "iopub.status.busy": "2025-09-18T11:13:16.333673Z",
     "iopub.status.idle": "2025-09-18T11:13:16.341112Z",
     "shell.execute_reply": "2025-09-18T11:13:16.340392Z"
    },
    "papermill": {
     "duration": 0.013208,
     "end_time": "2025-09-18T11:13:16.342464",
     "exception": false,
     "start_time": "2025-09-18T11:13:16.329256",
     "status": "completed"
    },
    "tags": []
   },
   "outputs": [
    {
     "data": {
      "text/plain": [
       "0       7.2500\n",
       "1      71.2833\n",
       "2       7.9250\n",
       "3      53.1000\n",
       "4       8.0500\n",
       "        ...   \n",
       "886    13.0000\n",
       "887    30.0000\n",
       "888    23.4500\n",
       "889    30.0000\n",
       "890     7.7500\n",
       "Name: Fare, Length: 891, dtype: float64"
      ]
     },
     "execution_count": 8,
     "metadata": {},
     "output_type": "execute_result"
    }
   ],
   "source": [
    "\n",
    "test['Fare'].fillna(test['Fare'].median())\n"
   ]
  },
  {
   "cell_type": "markdown",
   "id": "c0f98711",
   "metadata": {
    "papermill": {
     "duration": 0.003535,
     "end_time": "2025-09-18T11:13:16.349943",
     "exception": false,
     "start_time": "2025-09-18T11:13:16.346408",
     "status": "completed"
    },
    "tags": []
   },
   "source": [
    "# ==============================\n",
    "# 8. Verify Missing Values\n",
    "# =============================="
   ]
  },
  {
   "cell_type": "code",
   "execution_count": 9,
   "id": "fb6a7ca9",
   "metadata": {
    "execution": {
     "iopub.execute_input": "2025-09-18T11:13:16.358641Z",
     "iopub.status.busy": "2025-09-18T11:13:16.358119Z",
     "iopub.status.idle": "2025-09-18T11:13:16.366150Z",
     "shell.execute_reply": "2025-09-18T11:13:16.365221Z"
    },
    "papermill": {
     "duration": 0.01394,
     "end_time": "2025-09-18T11:13:16.367546",
     "exception": false,
     "start_time": "2025-09-18T11:13:16.353606",
     "status": "completed"
    },
    "tags": []
   },
   "outputs": [
    {
     "name": "stdout",
     "output_type": "stream",
     "text": [
      "Train missing values:\n",
      " PassengerId      0\n",
      "Survived         0\n",
      "Pclass           0\n",
      "Name             0\n",
      "Sex              0\n",
      "Age              0\n",
      "SibSp            0\n",
      "Parch            0\n",
      "Ticket           0\n",
      "Fare             0\n",
      "Cabin          687\n",
      "Embarked         2\n",
      "Title            0\n",
      "dtype: int64\n",
      "\n",
      "Test missing values:\n",
      " PassengerId      0\n",
      "Survived         0\n",
      "Pclass           0\n",
      "Name             0\n",
      "Sex              0\n",
      "Age              0\n",
      "SibSp            0\n",
      "Parch            0\n",
      "Ticket           0\n",
      "Fare             0\n",
      "Cabin          687\n",
      "Embarked         2\n",
      "Title            0\n",
      "dtype: int64\n"
     ]
    }
   ],
   "source": [
    "\n",
    "print(\"Train missing values:\\n\", train.isnull().sum())\n",
    "print(\"\\nTest missing values:\\n\", test.isnull().sum())\n"
   ]
  },
  {
   "cell_type": "markdown",
   "id": "c8b3db3d",
   "metadata": {
    "papermill": {
     "duration": 0.003526,
     "end_time": "2025-09-18T11:13:16.375070",
     "exception": false,
     "start_time": "2025-09-18T11:13:16.371544",
     "status": "completed"
    },
    "tags": []
   },
   "source": [
    ": Encode Categorical Features"
   ]
  },
  {
   "cell_type": "code",
   "execution_count": 10,
   "id": "e2d5396f",
   "metadata": {
    "execution": {
     "iopub.execute_input": "2025-09-18T11:13:16.384034Z",
     "iopub.status.busy": "2025-09-18T11:13:16.383341Z",
     "iopub.status.idle": "2025-09-18T11:13:16.652514Z",
     "shell.execute_reply": "2025-09-18T11:13:16.651720Z"
    },
    "papermill": {
     "duration": 0.275321,
     "end_time": "2025-09-18T11:13:16.654069",
     "exception": false,
     "start_time": "2025-09-18T11:13:16.378748",
     "status": "completed"
    },
    "tags": []
   },
   "outputs": [],
   "source": [
    "from sklearn.preprocessing import LabelEncoder\n",
    "\n",
    "# Encode Sex\n",
    "le = LabelEncoder()\n",
    "train['Sex'] = le.fit_transform(train['Sex'])\n",
    "test['Sex'] = le.transform(test['Sex'])\n",
    "\n",
    "# One-hot encode Embarked + Title\n",
    "train = pd.get_dummies(train, columns=['Embarked', 'Title'], drop_first=True)\n",
    "test = pd.get_dummies(test, columns=['Embarked', 'Title'], drop_first=True)\n",
    "\n"
   ]
  },
  {
   "cell_type": "code",
   "execution_count": 11,
   "id": "9d1bb9f0",
   "metadata": {
    "execution": {
     "iopub.execute_input": "2025-09-18T11:13:16.663364Z",
     "iopub.status.busy": "2025-09-18T11:13:16.663016Z",
     "iopub.status.idle": "2025-09-18T11:13:16.675319Z",
     "shell.execute_reply": "2025-09-18T11:13:16.674392Z"
    },
    "papermill": {
     "duration": 0.018528,
     "end_time": "2025-09-18T11:13:16.676692",
     "exception": false,
     "start_time": "2025-09-18T11:13:16.658164",
     "status": "completed"
    },
    "tags": []
   },
   "outputs": [],
   "source": [
    "from sklearn.preprocessing import StandardScaler\n",
    "\n",
    "scaler = StandardScaler()\n",
    "num_cols = ['Age', 'Fare']\n",
    "\n",
    "train[num_cols] = scaler.fit_transform(train[num_cols])\n",
    "test[num_cols] = scaler.transform(test[num_cols])\n"
   ]
  },
  {
   "cell_type": "code",
   "execution_count": 12,
   "id": "537bea15",
   "metadata": {
    "execution": {
     "iopub.execute_input": "2025-09-18T11:13:16.686329Z",
     "iopub.status.busy": "2025-09-18T11:13:16.685588Z",
     "iopub.status.idle": "2025-09-18T11:13:16.690606Z",
     "shell.execute_reply": "2025-09-18T11:13:16.689667Z"
    },
    "papermill": {
     "duration": 0.010983,
     "end_time": "2025-09-18T11:13:16.691779",
     "exception": false,
     "start_time": "2025-09-18T11:13:16.680796",
     "status": "completed"
    },
    "tags": []
   },
   "outputs": [
    {
     "name": "stdout",
     "output_type": "stream",
     "text": [
      "Train shape: (891, 17)\n",
      "Test shape: (891, 17)\n"
     ]
    }
   ],
   "source": [
    "print(\"Train shape:\", train.shape)\n",
    "print(\"Test shape:\", test.shape)\n"
   ]
  }
 ],
 "metadata": {
  "kaggle": {
   "accelerator": "none",
   "dataSources": [
    {
     "datasetId": 1818188,
     "sourceId": 2965537,
     "sourceType": "datasetVersion"
    }
   ],
   "dockerImageVersionId": 31089,
   "isGpuEnabled": false,
   "isInternetEnabled": false,
   "language": "python",
   "sourceType": "notebook"
  },
  "kernelspec": {
   "display_name": "Python 3",
   "language": "python",
   "name": "python3"
  },
  "language_info": {
   "codemirror_mode": {
    "name": "ipython",
    "version": 3
   },
   "file_extension": ".py",
   "mimetype": "text/x-python",
   "name": "python",
   "nbconvert_exporter": "python",
   "pygments_lexer": "ipython3",
   "version": "3.11.13"
  },
  "papermill": {
   "default_parameters": {},
   "duration": 9.939414,
   "end_time": "2025-09-18T11:13:17.314662",
   "environment_variables": {},
   "exception": null,
   "input_path": "__notebook__.ipynb",
   "output_path": "__notebook__.ipynb",
   "parameters": {},
   "start_time": "2025-09-18T11:13:07.375248",
   "version": "2.6.0"
  }
 },
 "nbformat": 4,
 "nbformat_minor": 5
}
